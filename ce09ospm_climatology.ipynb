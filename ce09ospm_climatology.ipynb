{
 "cells": [
  {
   "cell_type": "markdown",
   "metadata": {},
   "source": [
    "# Craig's code, OOI Endurance profiler\n",
    "\n",
    "You can find my now working code at https://gist.github.com/crisien/1eac8a284bfbc4fa27dc00053817e617. It's not pretty but it works."
   ]
  },
  {
   "cell_type": "code",
   "execution_count": 1,
   "metadata": {},
   "outputs": [],
   "source": [
    "\"\"\"\n",
    "Created on Tue Aug 21 11:36:40 2018\n",
    "@author: crisien\n",
    "\"\"\"\n",
    "\n",
    "import requests\n",
    "import matplotlib.pyplot as plt\n",
    "import numpy as np\n",
    "\n",
    "import datetime\n",
    "from datetime import date\n",
    "import calendar"
   ]
  },
  {
   "cell_type": "code",
   "execution_count": 2,
   "metadata": {},
   "outputs": [],
   "source": [
    "# function to make an API request and print the results\n",
    "def get_and_print_api(url):\n",
    "  r = requests.get(url, auth=(USERNAME, TOKEN))\n",
    "  data = r.json()\n",
    "  for d in data:\n",
    "    print( d )\n",
    "    \n",
    "#get_and_print_api(SENSOR_BASE_URL+'/CE09OSPM')\n",
    "#get_and_print_api(SENSOR_BASE_URL+'/CE09OSPM/WFP01')\n",
    "#get_and_print_api(SENSOR_BASE_URL+'/CE09OSPM/WFP01/03-CTDPFK000')\n",
    "#get_and_print_api(SENSOR_BASE_URL+'/CE09OSPM/WFP01/03-CTDPFK000/recovered_wfp')\n",
    "\n",
    "def ntp_seconds_to_datetime(ntp_seconds):\n",
    "   return datetime.datetime.utcfromtimestamp(ntp_seconds - ntp_delta).replace(microsecond=0)"
   ]
  },
  {
   "cell_type": "code",
   "execution_count": 3,
   "metadata": {},
   "outputs": [],
   "source": [
    "USERNAME = 'OOIAPI-T4K9H80QN79JPD'\n",
    "TOKEN =  '2QXI1W549EC1EU'\n",
    "\n",
    "SENSOR_BASE_URL = 'https://ooinet.oceanobservatories.org/api/m2m/12576/sensor/inv/'\n",
    "\n",
    "r = requests.get(SENSOR_BASE_URL, auth=(USERNAME, TOKEN))\n",
    "#print( r.status_code )\n",
    "#print( r.headers )\n",
    "#print( r.encoding )\n",
    "#print( r.text )\n",
    "#print( r.json() )\n",
    "\n",
    "#sites = r.json()\n",
    "#for site in sites:\n",
    "#  print( site )"
   ]
  },
  {
   "cell_type": "code",
   "execution_count": 4,
   "metadata": {},
   "outputs": [
    {
     "name": "stdout",
     "output_type": "stream",
     "text": [
      "found some data for 2014-10\n"
     ]
    },
    {
     "name": "stderr",
     "output_type": "stream",
     "text": [
      "/home/mayorga/miniconda/envs/ioosaccess/lib/python3.6/site-packages/ipykernel/__main__.py:84: RuntimeWarning: Mean of empty slice\n",
      "/home/mayorga/miniconda/envs/ioosaccess/lib/python3.6/site-packages/ipykernel/__main__.py:85: RuntimeWarning: Mean of empty slice\n"
     ]
    },
    {
     "name": "stdout",
     "output_type": "stream",
     "text": [
      "found some data for 2014-11\n",
      "found some data for 2014-12\n",
      "found some data for 2015-01\n",
      "found some data for 2015-02\n",
      "found some data for 2015-03\n",
      "found some data for 2015-04\n",
      "found some data for 2015-05\n",
      "found some data for 2015-06\n",
      "found some data for 2015-07\n",
      "found some data for 2015-08\n",
      "found some data for 2015-09\n",
      "found some data for 2015-10\n",
      "found some data for 2015-11\n",
      "found some data for 2015-12\n",
      "found some data for 2016-01\n",
      "found some data for 2016-02\n",
      "found some data for 2016-03\n",
      "found some data for 2016-04\n",
      "found some data for 2016-05\n",
      "found some data for 2016-06\n",
      "found some data for 2016-07\n",
      "found some data for 2016-08\n",
      "no data for 2016-09\n",
      "no data for 2016-10\n",
      "no data for 2016-11\n",
      "no data for 2016-12\n",
      "no data for 2017-01\n",
      "no data for 2017-02\n",
      "no data for 2017-03\n",
      "found some data for 2017-04\n",
      "found some data for 2017-05\n",
      "found some data for 2017-06\n",
      "found some data for 2017-07\n",
      "found some data for 2017-08\n",
      "found some data for 2017-09\n",
      "found some data for 2017-10\n",
      "found some data for 2017-11\n",
      "found some data for 2017-12\n",
      "found some data for 2018-01\n",
      "found some data for 2018-02\n",
      "found some data for 2018-03\n",
      "found some data for 2018-04\n",
      "found some data for 2018-05\n",
      "found some data for 2018-06\n",
      "found some data for 2018-07\n",
      "no data for 2018-08\n",
      "no data for 2018-09\n",
      "no data for 2018-10\n",
      "no data for 2018-11\n",
      "no data for 2018-12\n"
     ]
    }
   ],
   "source": [
    "temp_binned = np.zeros((510, 51))\n",
    "salt_binned = np.zeros((510, 51))\n",
    "\n",
    "kk=-1\n",
    "\n",
    "for i in range(2014, 2019, 1):\n",
    "    \n",
    "    if i == 2014:\n",
    "        mm=10\n",
    "    else:\n",
    "        mm=1\n",
    "    \n",
    "    for j in range(mm, 13, 1):\n",
    "        \n",
    "        if i == 2018 and j >= 3:\n",
    "            # Instrument Information\n",
    "            site = 'CE09OSPM'\n",
    "            node = 'WFP01'\n",
    "            instrument = '03-CTDPFK000'\n",
    "            method = 'telemetered'\n",
    "            stream = 'ctdpf_ckl_wfp_instrument'\n",
    "        else:\n",
    "            # Instrument Information\n",
    "            site = 'CE09OSPM'\n",
    "            node = 'WFP01'\n",
    "            instrument = '03-CTDPFK000'\n",
    "            method = 'recovered_wfp'\n",
    "            stream = 'ctdpf_ckl_wfp_instrument_recovered'\n",
    "    \n",
    "        start_date = date(i,j,1)\n",
    "        days_in_month = calendar.monthrange(start_date.year, start_date.month)[1]\n",
    "        \n",
    "        if j < 10:\n",
    "            month='0'+str(j)\n",
    "        else:\n",
    "            month=str(j)\n",
    "        \n",
    "        params = {\n",
    "          'beginDT':str(i)+'-'+month+'-'+str(days_in_month)+'T00:00:00.000Z',\n",
    "          'endDT':str(i)+'-'+month+'-'+str(days_in_month)+'T23:59:59.000Z',\n",
    "          'limit':20000,   \n",
    "        }\n",
    "        \n",
    "        data_request_url ='/'.join((SENSOR_BASE_URL,site,node,instrument,method,stream))\n",
    "        r = requests.get(data_request_url, params=params, auth=(USERNAME, TOKEN))\n",
    "        data = r.json()\n",
    "        \n",
    "        if len(data) == 2:\n",
    "           print('no data for '+str(i)+'-'+month)\n",
    "           kk=kk+1\n",
    "        else:\n",
    "           print('found some data for '+str(i)+'-'+month)\n",
    "           # Time Processing Routine\n",
    "           ntp_epoch = datetime.datetime(1900, 1, 1)\n",
    "           unix_epoch = datetime.datetime(1970, 1, 1)\n",
    "           ntp_delta = (unix_epoch - ntp_epoch).total_seconds()\n",
    "        \n",
    "           # Process the data\n",
    "           time = []\n",
    "           pressure = []\n",
    "           temperature = []\n",
    "           salinity = []\n",
    "           for xx in range(len(data)):\n",
    "             time.append(ntp_seconds_to_datetime(data[xx]['time']))\n",
    "             pressure.append(data[xx]['ctdpf_ckl_seawater_pressure'])\n",
    "             temperature.append(data[xx]['ctdpf_ckl_seawater_temperature'])\n",
    "             salinity.append(data[xx]['practical_salinity'])\n",
    "        \n",
    "           temperature=np.array(temperature)\n",
    "           pressure=np.array(pressure)\n",
    "           salinity=np.array(salinity)\n",
    "        \n",
    "           bins = np.arange(511)   #1m bins; at 25cm/s ~ 4obs/1m bin\n",
    "            \n",
    "           temp_array = np.zeros((len(bins)-1,))\n",
    "           temp_array[temp_array == 0.0] = np.nan\n",
    "           salt_array = np.zeros((len(bins)-1,))\n",
    "           salt_array[salt_array == 0.0] = np.nan\n",
    "           \n",
    "           k=-1\n",
    "           for ii in range(len(bins)-1):\n",
    "               ind = np.where((pressure >= bins[ii]) & (pressure < bins[ii+1]))\n",
    "               k=k+1\n",
    "               temp_array[k] = np.nanmean(temperature[ind])\n",
    "               salt_array[k] = np.nanmean(salinity[ind])\n",
    "\n",
    "           kk=kk+1\n",
    "           temp_binned[:,kk]=temp_array\n",
    "           salt_binned[:,kk]=salt_array\n",
    "\n",
    "\n",
    "temp_binned[temp_binned == 0.0] = np.nan\n",
    "salt_binned[salt_binned == 0.0] = np.nan\n",
    "temp_binned=temp_binned[:,0:46] #Oct 2014 - July 2018\n",
    "salt_binned=salt_binned[:,0:46]\n",
    "\n",
    "#plt.plot(temp_binned[:,1])\n",
    "#plt.plot(salt_binned[:,1])\n",
    "\n",
    "#get array dims\n",
    "[x,y]=np.shape(temp_binned)\n",
    "#these are monthly mean data so f=1/12\n",
    "f=1./12."
   ]
  },
  {
   "cell_type": "code",
   "execution_count": 5,
   "metadata": {},
   "outputs": [],
   "source": [
    "# now start calculating a temperature climatology for each of the 510 bin depths\n",
    "\n",
    "temp_beta_values = np.zeros((x,9))\n",
    "\n",
    "for i in range(0, x):\n",
    "    c = np.squeeze(temp_binned[i,:])\n",
    "    t = np.arange(0, y)\n",
    "    #remove the nans\n",
    "    t = t[~np.isnan(c)]\n",
    "    c = c[~np.isnan(c)]\n",
    "    \n",
    "    N=len(c)\n",
    "        \n",
    "    if N == 0:\n",
    "        temp_beta_values[i,:] = np.nan\n",
    "    else:\n",
    "        X=[np.ones(N),np.sin(2*np.pi*f*t),np.cos(2*np.pi*f*t),np.sin(4*np.pi*f*t),np.cos(4*np.pi*f*t),np.sin(6*np.pi*f*t),np.cos(6*np.pi*f*t),np.sin(8*np.pi*f*t),np.cos(8*np.pi*f*t)]\n",
    "        [b,residues,rank,s] = np.linalg.lstsq(np.transpose(X),c,rcond=-1)\n",
    "        temp_beta_values[i,:] = b\n"
   ]
  },
  {
   "cell_type": "code",
   "execution_count": 6,
   "metadata": {},
   "outputs": [],
   "source": [
    "#now start calculating a salinity climatology for each of the 510 bin depths\n",
    "\n",
    "salt_beta_values = np.zeros((x,9))\n",
    "\n",
    "for i in range(0, x):\n",
    "    c = np.squeeze(salt_binned[i,:])\n",
    "    t = np.arange(0, y)\n",
    "    #remove the nans\n",
    "    t = t[~np.isnan(c)]\n",
    "    c = c[~np.isnan(c)]\n",
    "    \n",
    "    N=len(c)\n",
    "        \n",
    "    if N == 0:\n",
    "        salt_beta_values[i,:] = np.nan\n",
    "    else:\n",
    "        X=[np.ones(N),np.sin(2*np.pi*f*t),np.cos(2*np.pi*f*t),np.sin(4*np.pi*f*t),np.cos(4*np.pi*f*t),np.sin(6*np.pi*f*t),np.cos(6*np.pi*f*t),np.sin(8*np.pi*f*t),np.cos(8*np.pi*f*t)]\n",
    "        [b,residues,rank,s] = np.linalg.lstsq(np.transpose(X),c,rcond=-1)\n",
    "        salt_beta_values[i,:] = b"
   ]
  },
  {
   "cell_type": "code",
   "execution_count": 7,
   "metadata": {},
   "outputs": [],
   "source": [
    "new_t=np.arange(0, y)\n",
    "temp_seasonal_cycle = np.zeros((x,y))\n",
    "\n",
    "for i in range(0, x):\n",
    "        T=(temp_beta_values[i,0]+temp_beta_values[i,1]*np.sin(2.*np.pi*f*new_t)+temp_beta_values[i,2]*np.cos(2.*np.pi*f*new_t)+temp_beta_values[i,3]*np.sin(4.*np.pi*f*new_t)+temp_beta_values[i,4]*np.cos(4.*np.pi*f*new_t))\n",
    "        temp_seasonal_cycle[i,:] = T\n",
    "\n",
    "new_t=np.arange(0, y)\n",
    "salt_seasonal_cycle = np.zeros((x,y))\n",
    "\n",
    "for i in range(0, x):\n",
    "        T=(salt_beta_values[i,0]+salt_beta_values[i,1]*np.sin(2.*np.pi*f*new_t)+salt_beta_values[i,2]*np.cos(2.*np.pi*f*new_t)+salt_beta_values[i,3]*np.sin(4.*np.pi*f*new_t)+salt_beta_values[i,4]*np.cos(4.*np.pi*f*new_t))\n",
    "        salt_seasonal_cycle[i,:] = T\n",
    "\n",
    "temp_seasonal_cycle[0:30,:]=np.nan #nan out data above 30 meters where tere is to little data to calculate a decent climatology\n",
    "salt_seasonal_cycle[0:30,:]=np.nan"
   ]
  },
  {
   "cell_type": "markdown",
   "metadata": {},
   "source": [
    "## Plots"
   ]
  },
  {
   "cell_type": "code",
   "execution_count": 8,
   "metadata": {},
   "outputs": [],
   "source": [
    "bin_cnt=bins-.5\n",
    "bin_cnt=bin_cnt[1:]"
   ]
  },
  {
   "cell_type": "code",
   "execution_count": 9,
   "metadata": {},
   "outputs": [
    {
     "data": {
      "image/png": "[encoded data removed]",
      "text/plain": [
       "<Figure size 432x288 with 1 Axes>"
      ]
     },
     "metadata": {},
     "output_type": "display_data"
    }
   ],
   "source": [
    "plt.pcolor(temp_seasonal_cycle)\n",
    "plt.gca().invert_yaxis()"
   ]
  },
  {
   "cell_type": "code",
   "execution_count": 10,
   "metadata": {},
   "outputs": [
    {
     "data": {
      "image/png": "[encoded data removed]",
      "text/plain": [
       "<Figure size 432x288 with 1 Axes>"
      ]
     },
     "metadata": {},
     "output_type": "display_data"
    }
   ],
   "source": [
    "plt.pcolor(salt_seasonal_cycle)\n",
    "plt.gca().invert_yaxis()"
   ]
  },
  {
   "cell_type": "code",
   "execution_count": 18,
   "metadata": {},
   "outputs": [
    {
     "data": {
      "text/plain": [
       "Text(0.5,0,'Salinity')"
      ]
     },
     "execution_count": 18,
     "metadata": {},
     "output_type": "execute_result"
    },
    {
     "data": {
      "image/png": "[encoded data removed]",
      "text/plain": [
       "<Figure size 432x288 with 2 Axes>"
      ]
     },
     "metadata": {},
     "output_type": "display_data"
    }
   ],
   "source": [
    "plt.subplot(121)\n",
    "plt.plot_date(temp_seasonal_cycle[:,3],bin_cnt)\n",
    "plt.plot_date(temp_seasonal_cycle[:,9],bin_cnt)\n",
    "plt.legend(['Jan','Jul'])\n",
    "plt.gca().invert_yaxis()\n",
    "plt.xlim(4,12)\n",
    "plt.xticks([2, 4, 6, 8, 10, 12, 14], [2, 4, 6, 8, 10, 12, 14])\n",
    "plt.ylabel('Pressure (dbar)')\n",
    "plt.xlabel('Temperature ($^\\circ$C)')\n",
    "\n",
    "plt.subplot(122)\n",
    "plt.plot_date(salt_seasonal_cycle[:,3],bin_cnt)\n",
    "plt.plot_date(salt_seasonal_cycle[:,9],bin_cnt)\n",
    "plt.gca().invert_yaxis()\n",
    "plt.xlim(32,35)\n",
    "plt.xticks([32, 33, 34, 35], [32, 33, 34, 35])\n",
    "plt.xlabel('Salinity')"
   ]
  },
  {
   "cell_type": "markdown",
   "metadata": {},
   "source": [
    "### Save to numpy files, for reuse\n",
    "Arrays to save: temp_binned, salt_binned, temp_beta_values, salt_beta_values temp_seasonal_cycle, salt_seasonal_cycle"
   ]
  },
  {
   "cell_type": "code",
   "execution_count": 26,
   "metadata": {},
   "outputs": [],
   "source": [
    "# temp_binned, salt_binned, temp_beta_values, salt_beta_values temp_seasonal_cycle, salt_seasonal_cycle\n",
    "out_basefname = 'ce09ospm_'\n",
    "\n",
    "np.save(out_basefname+'temp_binned', temp_binned)\n",
    "np.save(out_basefname+'temp_beta_values', temp_beta_values)\n",
    "np.save(out_basefname+'temp_seasonal_cycle', temp_seasonal_cycle)\n",
    "\n",
    "np.save(out_basefname+'salt_binned', salt_binned)\n",
    "np.save(out_basefname+'salt_beta_values', salt_beta_values)\n",
    "np.save(out_basefname+'salt_seasonal_cycle', salt_seasonal_cycle)"
   ]
  },
  {
   "cell_type": "code",
   "execution_count": null,
   "metadata": {},
   "outputs": [],
   "source": []
  }
 ],
 "metadata": {
  "kernelspec": {
   "display_name": "Python [conda env:ioosaccess]",
   "language": "python",
   "name": "conda-env-ioosaccess-py"
  },
  "language_info": {
   "codemirror_mode": {
    "name": "ipython",
    "version": 3
   },
   "file_extension": ".py",
   "mimetype": "text/x-python",
   "name": "python",
   "nbconvert_exporter": "python",
   "pygments_lexer": "ipython3",
   "version": "3.6.6"
  }
 },
 "nbformat": 4,
 "nbformat_minor": 2
}
